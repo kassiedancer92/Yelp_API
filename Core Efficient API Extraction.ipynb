{
 "cells": [
  {
   "cell_type": "code",
   "execution_count": 9,
   "id": "024a0a01",
   "metadata": {},
   "outputs": [],
   "source": [
    "# Standard Imports\n",
    "import numpy as np\n",
    "import pandas as pd\n",
    "import matplotlib.pyplot as plt\n",
    "import seaborn as sns\n",
    "# Additional Imports\n",
    "import os, json, math, time\n",
    "from yelpapi import YelpAPI\n",
    "from tqdm.notebook import tqdm_notebook"
   ]
  },
  {
   "cell_type": "code",
   "execution_count": 10,
   "id": "b2c6a18d",
   "metadata": {},
   "outputs": [],
   "source": [
    "# Load API Credentials\n",
    "with open('/Users/kass/secret/yelp_api.json') as f:   #use your path here!\n",
    "    login = json.load(f)\n",
    "# Instantiate YelpAPI Variable\n",
    "yelp_api = YelpAPI(login['api-key'], timeout_s=5.0)"
   ]
  },
  {
   "cell_type": "code",
   "execution_count": 11,
   "id": "5442766b",
   "metadata": {},
   "outputs": [],
   "source": [
    "# set our API call parameters \n",
    "LOCATION = 'Boston, MA'\n",
    "TERM = 'Vegan'"
   ]
  },
  {
   "cell_type": "code",
   "execution_count": 12,
   "id": "5e8f88ad",
   "metadata": {},
   "outputs": [
    {
     "data": {
      "text/plain": [
       "'Data/results_in_progress_Bos_Vegan.json'"
      ]
     },
     "execution_count": 12,
     "metadata": {},
     "output_type": "execute_result"
    }
   ],
   "source": [
    "# Specifying JSON_FILE filename (can include a folder)\n",
    "# include the search terms in the filename\n",
    "JSON_FILE = \"Data/results_in_progress_Bos_Vegan.json\"\n",
    "JSON_FILE"
   ]
  },
  {
   "cell_type": "code",
   "execution_count": 15,
   "id": "e42198a7",
   "metadata": {},
   "outputs": [],
   "source": [
    "def create_json_file(JSON_FILE,  delete_if_exists=False):\n",
    "    \n",
    "    ## Check if JSON_FILE exists\n",
    "    file_exists = os.path.isfile(JSON_FILE)\n",
    "    \n",
    "    ## If it DOES exist:\n",
    "    if file_exists == True:\n",
    "        \n",
    "        ## Check if user wants to delete if exists\n",
    "        if delete_if_exists==True:\n",
    "            \n",
    "            print(f\"[!] {JSON_FILE} already exists. Deleting previous file...\")\n",
    "            ## delete file and confirm it no longer exits.\n",
    "            os.remove(JSON_FILE)\n",
    "            ## Recursive call to function after old file deleted\n",
    "            create_json_file(JSON_FILE,delete_if_exists=False)\n",
    "        else:\n",
    "            print(f\"[i] {JSON_FILE} already exists.\")            \n",
    "            \n",
    "            \n",
    "    ## If it does NOT exist:\n",
    "    else:\n",
    "        \n",
    "        ## INFORM USER AND SAVE EMPTY LIST\n",
    "        print(f\"[i] {JSON_FILE} not found. Saving empty list to new file.\")\n",
    "        \n",
    "        ## CREATE ANY NEEDED FOLDERS\n",
    "        # Get the Folder Name only\n",
    "        folder = os.path.dirname(JSON_FILE)\n",
    "        \n",
    "        ## If JSON_FILE included a folder:\n",
    "        if len(folder)>0:\n",
    "            # create the folder\n",
    "            os.makedirs(folder,exist_ok=True)\n",
    "        ## Save empty list to start the json file\n",
    "        with open(JSON_FILE,'w') as f:\n",
    "            json.dump([],f)  "
   ]
  },
  {
   "cell_type": "code",
   "execution_count": 16,
   "id": "86a360e7",
   "metadata": {},
   "outputs": [
    {
     "name": "stdout",
     "output_type": "stream",
     "text": [
      "- 0 previous results found.\n"
     ]
    }
   ],
   "source": [
    "## Load previous results and use len of results for offset\n",
    "with open(JSON_FILE,'r') as f:\n",
    "    previous_results = json.load(f)\n",
    "    \n",
    "## set offset based on previous results\n",
    "n_results = len(previous_results)\n",
    "print(f'- {n_results} previous results found.')"
   ]
  },
  {
   "cell_type": "code",
   "execution_count": 17,
   "id": "85034e7b",
   "metadata": {},
   "outputs": [
    {
     "data": {
      "text/plain": [
       "dict_keys(['businesses', 'total', 'region'])"
      ]
     },
     "execution_count": 17,
     "metadata": {},
     "output_type": "execute_result"
    }
   ],
   "source": [
    "# use our yelp_api variable's search_query method to perform our API call\n",
    "results = yelp_api.search_query(location=LOCATION,\n",
    "                                term=TERM,\n",
    "                               offset=n_results)\n",
    "results.keys()"
   ]
  },
  {
   "cell_type": "code",
   "execution_count": 18,
   "id": "30047e62",
   "metadata": {},
   "outputs": [
    {
     "data": {
      "text/plain": [
       "2200"
      ]
     },
     "execution_count": 18,
     "metadata": {},
     "output_type": "execute_result"
    }
   ],
   "source": [
    "## How many results total?\n",
    "total_results = results['total']\n",
    "total_results"
   ]
  },
  {
   "cell_type": "code",
   "execution_count": 19,
   "id": "f12aad7e",
   "metadata": {},
   "outputs": [
    {
     "data": {
      "text/plain": [
       "20"
      ]
     },
     "execution_count": 19,
     "metadata": {},
     "output_type": "execute_result"
    }
   ],
   "source": [
    "## How many did we get the details for?\n",
    "results_per_page = len(results['businesses'])\n",
    "results_per_page"
   ]
  },
  {
   "cell_type": "code",
   "execution_count": 20,
   "id": "c02fc016",
   "metadata": {},
   "outputs": [
    {
     "data": {
      "text/plain": [
       "110"
      ]
     },
     "execution_count": 20,
     "metadata": {},
     "output_type": "execute_result"
    }
   ],
   "source": [
    "# Import additional packages for controlling our loop\n",
    "import time, math\n",
    "# Use math.ceil to round up for the total number of pages of results.\n",
    "n_pages = math.ceil((results['total']-n_results)/ results_per_page)\n",
    "n_pages"
   ]
  },
  {
   "cell_type": "code",
   "execution_count": 21,
   "id": "e01ee7f3",
   "metadata": {},
   "outputs": [],
   "source": [
    "# join new results with old list with extend and save to file\n",
    "previous_results.extend(results['businesses'])  \n",
    "with open(JSON_FILE,'w') as f:\n",
    "     json.dump(previous_results,f)"
   ]
  },
  {
   "cell_type": "code",
   "execution_count": 22,
   "id": "67e32489",
   "metadata": {},
   "outputs": [
    {
     "data": {
      "application/vnd.jupyter.widget-view+json": {
       "model_id": "65ba32558a014ff2afaee3d5ca42353a",
       "version_major": 2,
       "version_minor": 0
      },
      "text/plain": [
       "  0%|          | 0/110 [00:00<?, ?it/s]"
      ]
     },
     "metadata": {},
     "output_type": "display_data"
    }
   ],
   "source": [
    "from tqdm.notebook import tqdm_notebook\n",
    "import time\n",
    "for i in tqdm_notebook(range(n_pages)):\n",
    "    # adds 200 ms pause\n",
    "    time.sleep(.2) "
   ]
  },
  {
   "cell_type": "code",
   "execution_count": 23,
   "id": "b6bec142",
   "metadata": {},
   "outputs": [
    {
     "data": {
      "text/html": [
       "<div>\n",
       "<style scoped>\n",
       "    .dataframe tbody tr th:only-of-type {\n",
       "        vertical-align: middle;\n",
       "    }\n",
       "\n",
       "    .dataframe tbody tr th {\n",
       "        vertical-align: top;\n",
       "    }\n",
       "\n",
       "    .dataframe thead th {\n",
       "        text-align: right;\n",
       "    }\n",
       "</style>\n",
       "<table border=\"1\" class=\"dataframe\">\n",
       "  <thead>\n",
       "    <tr style=\"text-align: right;\">\n",
       "      <th></th>\n",
       "      <th>id</th>\n",
       "      <th>alias</th>\n",
       "      <th>name</th>\n",
       "      <th>image_url</th>\n",
       "      <th>is_closed</th>\n",
       "      <th>url</th>\n",
       "      <th>review_count</th>\n",
       "      <th>categories</th>\n",
       "      <th>rating</th>\n",
       "      <th>coordinates</th>\n",
       "      <th>transactions</th>\n",
       "      <th>price</th>\n",
       "      <th>location</th>\n",
       "      <th>phone</th>\n",
       "      <th>display_phone</th>\n",
       "      <th>distance</th>\n",
       "    </tr>\n",
       "  </thead>\n",
       "  <tbody>\n",
       "    <tr>\n",
       "      <th>0</th>\n",
       "      <td>hdBsXpL9uAllcb2QsqzK7g</td>\n",
       "      <td>redwhite-boneless-ramen-boston-3</td>\n",
       "      <td>REDWHITE BONELESS RAMEN</td>\n",
       "      <td>https://s3-media1.fl.yelpcdn.com/bphoto/nr-GE1...</td>\n",
       "      <td>False</td>\n",
       "      <td>https://www.yelp.com/biz/redwhite-boneless-ram...</td>\n",
       "      <td>409</td>\n",
       "      <td>[{'alias': 'japanese', 'title': 'Japanese'}, {...</td>\n",
       "      <td>4.5</td>\n",
       "      <td>{'latitude': 42.348815, 'longitude': -71.084731}</td>\n",
       "      <td>[delivery, pickup]</td>\n",
       "      <td>$$</td>\n",
       "      <td>{'address1': '294 Newbury St', 'address2': Non...</td>\n",
       "      <td>18572770609</td>\n",
       "      <td>(857) 277-0609</td>\n",
       "      <td>1111.128590</td>\n",
       "    </tr>\n",
       "    <tr>\n",
       "      <th>1</th>\n",
       "      <td>mnFhrH1Fi5GoSuV-5gVpnA</td>\n",
       "      <td>krasi-boston-2</td>\n",
       "      <td>Krasi</td>\n",
       "      <td>https://s3-media2.fl.yelpcdn.com/bphoto/OCJ5vI...</td>\n",
       "      <td>False</td>\n",
       "      <td>https://www.yelp.com/biz/krasi-boston-2?adjust...</td>\n",
       "      <td>376</td>\n",
       "      <td>[{'alias': 'mediterranean', 'title': 'Mediterr...</td>\n",
       "      <td>4.5</td>\n",
       "      <td>{'latitude': 42.34872306019752, 'longitude': -...</td>\n",
       "      <td>[delivery]</td>\n",
       "      <td>$$</td>\n",
       "      <td>{'address1': '48 Gloucester St', 'address2': '...</td>\n",
       "      <td>16175360230</td>\n",
       "      <td>(617) 536-0230</td>\n",
       "      <td>1056.307606</td>\n",
       "    </tr>\n",
       "    <tr>\n",
       "      <th>2</th>\n",
       "      <td>kP1b-7BO_VhWk_0tvuA_tw</td>\n",
       "      <td>carmelinas-boston-2</td>\n",
       "      <td>Carmelina's</td>\n",
       "      <td>https://s3-media2.fl.yelpcdn.com/bphoto/rxZBwI...</td>\n",
       "      <td>False</td>\n",
       "      <td>https://www.yelp.com/biz/carmelinas-boston-2?a...</td>\n",
       "      <td>3328</td>\n",
       "      <td>[{'alias': 'italian', 'title': 'Italian'}]</td>\n",
       "      <td>4.5</td>\n",
       "      <td>{'latitude': 42.36388, 'longitude': -71.05415}</td>\n",
       "      <td>[restaurant_reservation, delivery]</td>\n",
       "      <td>$$</td>\n",
       "      <td>{'address1': '307 Hanover St', 'address2': '',...</td>\n",
       "      <td>16177420020</td>\n",
       "      <td>(617) 742-0020</td>\n",
       "      <td>2272.117192</td>\n",
       "    </tr>\n",
       "    <tr>\n",
       "      <th>3</th>\n",
       "      <td>lsqYQYGfpe25wUZk9Wybwg</td>\n",
       "      <td>the-elephant-walk-boston-2</td>\n",
       "      <td>The Elephant Walk</td>\n",
       "      <td>https://s3-media2.fl.yelpcdn.com/bphoto/jnWAud...</td>\n",
       "      <td>False</td>\n",
       "      <td>https://www.yelp.com/biz/the-elephant-walk-bos...</td>\n",
       "      <td>278</td>\n",
       "      <td>[{'alias': 'cambodian', 'title': 'Cambodian'},...</td>\n",
       "      <td>4.5</td>\n",
       "      <td>{'latitude': 42.34116, 'longitude': -71.070578}</td>\n",
       "      <td>[delivery, pickup]</td>\n",
       "      <td>$$</td>\n",
       "      <td>{'address1': '1415 Washington St', 'address2':...</td>\n",
       "      <td>16172471500</td>\n",
       "      <td>(617) 247-1500</td>\n",
       "      <td>744.978862</td>\n",
       "    </tr>\n",
       "    <tr>\n",
       "      <th>4</th>\n",
       "      <td>Q8g68ZDAt93h_n_wTbwshA</td>\n",
       "      <td>shōjō-boston-boston-2</td>\n",
       "      <td>Shōjō-Boston</td>\n",
       "      <td>https://s3-media1.fl.yelpcdn.com/bphoto/CSSmYu...</td>\n",
       "      <td>False</td>\n",
       "      <td>https://www.yelp.com/biz/sh%C5%8Dj%C5%8D-bosto...</td>\n",
       "      <td>989</td>\n",
       "      <td>[{'alias': 'asianfusion', 'title': 'Asian Fusi...</td>\n",
       "      <td>4.0</td>\n",
       "      <td>{'latitude': 42.35113, 'longitude': -71.06077}</td>\n",
       "      <td>[delivery, pickup]</td>\n",
       "      <td>$$</td>\n",
       "      <td>{'address1': '9A Tyler St', 'address2': None, ...</td>\n",
       "      <td>16174237888</td>\n",
       "      <td>(617) 423-7888</td>\n",
       "      <td>932.457881</td>\n",
       "    </tr>\n",
       "  </tbody>\n",
       "</table>\n",
       "</div>"
      ],
      "text/plain": [
       "                       id                             alias  \\\n",
       "0  hdBsXpL9uAllcb2QsqzK7g  redwhite-boneless-ramen-boston-3   \n",
       "1  mnFhrH1Fi5GoSuV-5gVpnA                    krasi-boston-2   \n",
       "2  kP1b-7BO_VhWk_0tvuA_tw               carmelinas-boston-2   \n",
       "3  lsqYQYGfpe25wUZk9Wybwg        the-elephant-walk-boston-2   \n",
       "4  Q8g68ZDAt93h_n_wTbwshA             shōjō-boston-boston-2   \n",
       "\n",
       "                      name                                          image_url  \\\n",
       "0  REDWHITE BONELESS RAMEN  https://s3-media1.fl.yelpcdn.com/bphoto/nr-GE1...   \n",
       "1                    Krasi  https://s3-media2.fl.yelpcdn.com/bphoto/OCJ5vI...   \n",
       "2              Carmelina's  https://s3-media2.fl.yelpcdn.com/bphoto/rxZBwI...   \n",
       "3        The Elephant Walk  https://s3-media2.fl.yelpcdn.com/bphoto/jnWAud...   \n",
       "4             Shōjō-Boston  https://s3-media1.fl.yelpcdn.com/bphoto/CSSmYu...   \n",
       "\n",
       "   is_closed                                                url  review_count  \\\n",
       "0      False  https://www.yelp.com/biz/redwhite-boneless-ram...           409   \n",
       "1      False  https://www.yelp.com/biz/krasi-boston-2?adjust...           376   \n",
       "2      False  https://www.yelp.com/biz/carmelinas-boston-2?a...          3328   \n",
       "3      False  https://www.yelp.com/biz/the-elephant-walk-bos...           278   \n",
       "4      False  https://www.yelp.com/biz/sh%C5%8Dj%C5%8D-bosto...           989   \n",
       "\n",
       "                                          categories  rating  \\\n",
       "0  [{'alias': 'japanese', 'title': 'Japanese'}, {...     4.5   \n",
       "1  [{'alias': 'mediterranean', 'title': 'Mediterr...     4.5   \n",
       "2         [{'alias': 'italian', 'title': 'Italian'}]     4.5   \n",
       "3  [{'alias': 'cambodian', 'title': 'Cambodian'},...     4.5   \n",
       "4  [{'alias': 'asianfusion', 'title': 'Asian Fusi...     4.0   \n",
       "\n",
       "                                         coordinates  \\\n",
       "0   {'latitude': 42.348815, 'longitude': -71.084731}   \n",
       "1  {'latitude': 42.34872306019752, 'longitude': -...   \n",
       "2     {'latitude': 42.36388, 'longitude': -71.05415}   \n",
       "3    {'latitude': 42.34116, 'longitude': -71.070578}   \n",
       "4     {'latitude': 42.35113, 'longitude': -71.06077}   \n",
       "\n",
       "                         transactions price  \\\n",
       "0                  [delivery, pickup]    $$   \n",
       "1                          [delivery]    $$   \n",
       "2  [restaurant_reservation, delivery]    $$   \n",
       "3                  [delivery, pickup]    $$   \n",
       "4                  [delivery, pickup]    $$   \n",
       "\n",
       "                                            location        phone  \\\n",
       "0  {'address1': '294 Newbury St', 'address2': Non...  18572770609   \n",
       "1  {'address1': '48 Gloucester St', 'address2': '...  16175360230   \n",
       "2  {'address1': '307 Hanover St', 'address2': '',...  16177420020   \n",
       "3  {'address1': '1415 Washington St', 'address2':...  16172471500   \n",
       "4  {'address1': '9A Tyler St', 'address2': None, ...  16174237888   \n",
       "\n",
       "    display_phone     distance  \n",
       "0  (857) 277-0609  1111.128590  \n",
       "1  (617) 536-0230  1056.307606  \n",
       "2  (617) 742-0020  2272.117192  \n",
       "3  (617) 247-1500   744.978862  \n",
       "4  (617) 423-7888   932.457881  "
      ]
     },
     "metadata": {},
     "output_type": "display_data"
    },
    {
     "data": {
      "text/html": [
       "<div>\n",
       "<style scoped>\n",
       "    .dataframe tbody tr th:only-of-type {\n",
       "        vertical-align: middle;\n",
       "    }\n",
       "\n",
       "    .dataframe tbody tr th {\n",
       "        vertical-align: top;\n",
       "    }\n",
       "\n",
       "    .dataframe thead th {\n",
       "        text-align: right;\n",
       "    }\n",
       "</style>\n",
       "<table border=\"1\" class=\"dataframe\">\n",
       "  <thead>\n",
       "    <tr style=\"text-align: right;\">\n",
       "      <th></th>\n",
       "      <th>id</th>\n",
       "      <th>alias</th>\n",
       "      <th>name</th>\n",
       "      <th>image_url</th>\n",
       "      <th>is_closed</th>\n",
       "      <th>url</th>\n",
       "      <th>review_count</th>\n",
       "      <th>categories</th>\n",
       "      <th>rating</th>\n",
       "      <th>coordinates</th>\n",
       "      <th>transactions</th>\n",
       "      <th>price</th>\n",
       "      <th>location</th>\n",
       "      <th>phone</th>\n",
       "      <th>display_phone</th>\n",
       "      <th>distance</th>\n",
       "    </tr>\n",
       "  </thead>\n",
       "  <tbody>\n",
       "    <tr>\n",
       "      <th>15</th>\n",
       "      <td>nIS4O-TwLYkA_P1Cu0SfhA</td>\n",
       "      <td>yvonnes-boston</td>\n",
       "      <td>Yvonne's</td>\n",
       "      <td>https://s3-media3.fl.yelpcdn.com/bphoto/Ob4EQb...</td>\n",
       "      <td>False</td>\n",
       "      <td>https://www.yelp.com/biz/yvonnes-boston?adjust...</td>\n",
       "      <td>1363</td>\n",
       "      <td>[{'alias': 'newamerican', 'title': 'American (...</td>\n",
       "      <td>4.0</td>\n",
       "      <td>{'latitude': 42.355517, 'longitude': -71.0614361}</td>\n",
       "      <td>[delivery]</td>\n",
       "      <td>$$</td>\n",
       "      <td>{'address1': '2 Winter Pl', 'address2': None, ...</td>\n",
       "      <td>16172670047</td>\n",
       "      <td>(617) 267-0047</td>\n",
       "      <td>1173.830091</td>\n",
       "    </tr>\n",
       "    <tr>\n",
       "      <th>16</th>\n",
       "      <td>lPAzwB4vPBqZmaFNH90kiQ</td>\n",
       "      <td>cafe-bonjour-boston</td>\n",
       "      <td>Cafe Bonjour</td>\n",
       "      <td>https://s3-media2.fl.yelpcdn.com/bphoto/CddDi5...</td>\n",
       "      <td>False</td>\n",
       "      <td>https://www.yelp.com/biz/cafe-bonjour-boston?a...</td>\n",
       "      <td>725</td>\n",
       "      <td>[{'alias': 'breakfast_brunch', 'title': 'Break...</td>\n",
       "      <td>4.5</td>\n",
       "      <td>{'latitude': 42.354838, 'longitude': -71.061816}</td>\n",
       "      <td>[delivery, pickup]</td>\n",
       "      <td>$$</td>\n",
       "      <td>{'address1': '55 Temple Pl', 'address2': '', '...</td>\n",
       "      <td>16177790062</td>\n",
       "      <td>(617) 779-0062</td>\n",
       "      <td>1098.043853</td>\n",
       "    </tr>\n",
       "    <tr>\n",
       "      <th>17</th>\n",
       "      <td>XnQYoHy23BULUooiqHe42Q</td>\n",
       "      <td>lulu-green-boston</td>\n",
       "      <td>Lulu Green</td>\n",
       "      <td>https://s3-media3.fl.yelpcdn.com/bphoto/jUVAsz...</td>\n",
       "      <td>False</td>\n",
       "      <td>https://www.yelp.com/biz/lulu-green-boston?adj...</td>\n",
       "      <td>90</td>\n",
       "      <td>[{'alias': 'vegan', 'title': 'Vegan'}, {'alias...</td>\n",
       "      <td>4.5</td>\n",
       "      <td>{'latitude': 42.339588, 'longitude': -71.051715}</td>\n",
       "      <td>[delivery, pickup]</td>\n",
       "      <td>$$</td>\n",
       "      <td>{'address1': '246 W Broadway', 'address2': Non...</td>\n",
       "      <td>16174204070</td>\n",
       "      <td>(617) 420-4070</td>\n",
       "      <td>1850.819001</td>\n",
       "    </tr>\n",
       "    <tr>\n",
       "      <th>18</th>\n",
       "      <td>YGoNygBanbHP7bpkpnrv7g</td>\n",
       "      <td>life-alive-organic-cafe-back-bay-boston</td>\n",
       "      <td>Life Alive Organic Cafe Back Bay</td>\n",
       "      <td>https://s3-media2.fl.yelpcdn.com/bphoto/j39-pY...</td>\n",
       "      <td>False</td>\n",
       "      <td>https://www.yelp.com/biz/life-alive-organic-ca...</td>\n",
       "      <td>253</td>\n",
       "      <td>[{'alias': 'juicebars', 'title': 'Juice Bars &amp;...</td>\n",
       "      <td>4.0</td>\n",
       "      <td>{'latitude': 42.351508, 'longitude': -71.072847}</td>\n",
       "      <td>[delivery, pickup]</td>\n",
       "      <td>$$</td>\n",
       "      <td>{'address1': '431 Boylston St', 'address2': No...</td>\n",
       "      <td>18572398239</td>\n",
       "      <td>(857) 239-8239</td>\n",
       "      <td>433.438408</td>\n",
       "    </tr>\n",
       "    <tr>\n",
       "      <th>19</th>\n",
       "      <td>pB_mOAgN7JuOdBp0HDA4Hg</td>\n",
       "      <td>plnt-burger-boston</td>\n",
       "      <td>PLNT Burger</td>\n",
       "      <td>https://s3-media2.fl.yelpcdn.com/bphoto/bYO2f5...</td>\n",
       "      <td>False</td>\n",
       "      <td>https://www.yelp.com/biz/plnt-burger-boston?ad...</td>\n",
       "      <td>15</td>\n",
       "      <td>[{'alias': 'burgers', 'title': 'Burgers'}, {'a...</td>\n",
       "      <td>4.5</td>\n",
       "      <td>{'latitude': 42.34546037805935, 'longitude': -...</td>\n",
       "      <td>[delivery, pickup]</td>\n",
       "      <td>NaN</td>\n",
       "      <td>{'address1': '348 Harrison Ave', 'address2': N...</td>\n",
       "      <td>16178822989</td>\n",
       "      <td>(617) 882-2989</td>\n",
       "      <td>743.951912</td>\n",
       "    </tr>\n",
       "  </tbody>\n",
       "</table>\n",
       "</div>"
      ],
      "text/plain": [
       "                        id                                    alias  \\\n",
       "15  nIS4O-TwLYkA_P1Cu0SfhA                           yvonnes-boston   \n",
       "16  lPAzwB4vPBqZmaFNH90kiQ                      cafe-bonjour-boston   \n",
       "17  XnQYoHy23BULUooiqHe42Q                        lulu-green-boston   \n",
       "18  YGoNygBanbHP7bpkpnrv7g  life-alive-organic-cafe-back-bay-boston   \n",
       "19  pB_mOAgN7JuOdBp0HDA4Hg                       plnt-burger-boston   \n",
       "\n",
       "                                name  \\\n",
       "15                          Yvonne's   \n",
       "16                      Cafe Bonjour   \n",
       "17                        Lulu Green   \n",
       "18  Life Alive Organic Cafe Back Bay   \n",
       "19                       PLNT Burger   \n",
       "\n",
       "                                            image_url  is_closed  \\\n",
       "15  https://s3-media3.fl.yelpcdn.com/bphoto/Ob4EQb...      False   \n",
       "16  https://s3-media2.fl.yelpcdn.com/bphoto/CddDi5...      False   \n",
       "17  https://s3-media3.fl.yelpcdn.com/bphoto/jUVAsz...      False   \n",
       "18  https://s3-media2.fl.yelpcdn.com/bphoto/j39-pY...      False   \n",
       "19  https://s3-media2.fl.yelpcdn.com/bphoto/bYO2f5...      False   \n",
       "\n",
       "                                                  url  review_count  \\\n",
       "15  https://www.yelp.com/biz/yvonnes-boston?adjust...          1363   \n",
       "16  https://www.yelp.com/biz/cafe-bonjour-boston?a...           725   \n",
       "17  https://www.yelp.com/biz/lulu-green-boston?adj...            90   \n",
       "18  https://www.yelp.com/biz/life-alive-organic-ca...           253   \n",
       "19  https://www.yelp.com/biz/plnt-burger-boston?ad...            15   \n",
       "\n",
       "                                           categories  rating  \\\n",
       "15  [{'alias': 'newamerican', 'title': 'American (...     4.0   \n",
       "16  [{'alias': 'breakfast_brunch', 'title': 'Break...     4.5   \n",
       "17  [{'alias': 'vegan', 'title': 'Vegan'}, {'alias...     4.5   \n",
       "18  [{'alias': 'juicebars', 'title': 'Juice Bars &...     4.0   \n",
       "19  [{'alias': 'burgers', 'title': 'Burgers'}, {'a...     4.5   \n",
       "\n",
       "                                          coordinates        transactions  \\\n",
       "15  {'latitude': 42.355517, 'longitude': -71.0614361}          [delivery]   \n",
       "16   {'latitude': 42.354838, 'longitude': -71.061816}  [delivery, pickup]   \n",
       "17   {'latitude': 42.339588, 'longitude': -71.051715}  [delivery, pickup]   \n",
       "18   {'latitude': 42.351508, 'longitude': -71.072847}  [delivery, pickup]   \n",
       "19  {'latitude': 42.34546037805935, 'longitude': -...  [delivery, pickup]   \n",
       "\n",
       "   price                                           location        phone  \\\n",
       "15    $$  {'address1': '2 Winter Pl', 'address2': None, ...  16172670047   \n",
       "16    $$  {'address1': '55 Temple Pl', 'address2': '', '...  16177790062   \n",
       "17    $$  {'address1': '246 W Broadway', 'address2': Non...  16174204070   \n",
       "18    $$  {'address1': '431 Boylston St', 'address2': No...  18572398239   \n",
       "19   NaN  {'address1': '348 Harrison Ave', 'address2': N...  16178822989   \n",
       "\n",
       "     display_phone     distance  \n",
       "15  (617) 267-0047  1173.830091  \n",
       "16  (617) 779-0062  1098.043853  \n",
       "17  (617) 420-4070  1850.819001  \n",
       "18  (857) 239-8239   433.438408  \n",
       "19  (617) 882-2989   743.951912  "
      ]
     },
     "metadata": {},
     "output_type": "display_data"
    }
   ],
   "source": [
    "# load final results\n",
    "final_df = pd.read_json(JSON_FILE)\n",
    "display(final_df.head(), final_df.tail())"
   ]
  },
  {
   "cell_type": "code",
   "execution_count": 24,
   "id": "23430e83",
   "metadata": {},
   "outputs": [
    {
     "data": {
      "text/plain": [
       "0"
      ]
     },
     "execution_count": 24,
     "metadata": {},
     "output_type": "execute_result"
    }
   ],
   "source": [
    "# check for duplicate ID's \n",
    "final_df.duplicated(subset='id').sum()"
   ]
  },
  {
   "cell_type": "code",
   "execution_count": 25,
   "id": "aaee5511",
   "metadata": {},
   "outputs": [
    {
     "data": {
      "text/plain": [
       "0"
      ]
     },
     "execution_count": 25,
     "metadata": {},
     "output_type": "execute_result"
    }
   ],
   "source": [
    "\n",
    "\n",
    "## Drop duplicate ids and confirm there are no more duplicates\n",
    "final_df = final_df.drop_duplicates(subset='id')\n",
    "final_df.duplicated(subset='id').sum()"
   ]
  },
  {
   "cell_type": "code",
   "execution_count": 26,
   "id": "a5dcb491",
   "metadata": {},
   "outputs": [],
   "source": [
    "# save the final results to a compressed csv\n",
    "final_df.to_csv('Data/final_results_NY_pizza.csv.gz', compression='gzip',index=False)"
   ]
  },
  {
   "cell_type": "code",
   "execution_count": null,
   "id": "8eb1886f",
   "metadata": {},
   "outputs": [],
   "source": []
  }
 ],
 "metadata": {
  "kernelspec": {
   "display_name": "Python (dojo-env)",
   "language": "python",
   "name": "dojo-env"
  },
  "language_info": {
   "codemirror_mode": {
    "name": "ipython",
    "version": 3
   },
   "file_extension": ".py",
   "mimetype": "text/x-python",
   "name": "python",
   "nbconvert_exporter": "python",
   "pygments_lexer": "ipython3",
   "version": "3.9.15"
  },
  "toc": {
   "base_numbering": 1,
   "nav_menu": {},
   "number_sections": true,
   "sideBar": true,
   "skip_h1_title": false,
   "title_cell": "Table of Contents",
   "title_sidebar": "Contents",
   "toc_cell": false,
   "toc_position": {},
   "toc_section_display": true,
   "toc_window_display": false
  }
 },
 "nbformat": 4,
 "nbformat_minor": 5
}
